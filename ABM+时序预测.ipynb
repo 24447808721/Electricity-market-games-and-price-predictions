{
 "cells": [
  {
   "cell_type": "markdown",
   "metadata": {},
   "source": [
    "# 安装依赖"
   ]
  },
  {
   "cell_type": "code",
   "execution_count": 1,
   "metadata": {
    "ExecutionIndicator": {
     "show": true
    },
    "execution": {
     "iopub.execute_input": "2024-08-11T01:54:56.109071Z",
     "iopub.status.busy": "2024-08-11T01:54:56.108926Z",
     "iopub.status.idle": "2024-08-11T01:55:10.017558Z",
     "shell.execute_reply": "2024-08-11T01:55:10.017014Z",
     "shell.execute_reply.started": "2024-08-11T01:54:56.109055Z"
    },
    "tags": []
   },
   "outputs": [
    {
     "name": "stdout",
     "output_type": "stream",
     "text": [
      "Looking in indexes: https://mirrors.cloud.aliyuncs.com/pypi/simple\n",
      "Requirement already satisfied: numpy in /usr/local/lib/python3.10/site-packages (1.26.4)\n",
      "Requirement already satisfied: pandas in /usr/local/lib/python3.10/site-packages (2.2.2)\n",
      "Requirement already satisfied: scikit-learn in /usr/local/lib/python3.10/site-packages (1.5.0)\n",
      "Requirement already satisfied: matplotlib in /usr/local/lib/python3.10/site-packages (3.9.0)\n",
      "Requirement already satisfied: seaborn in /usr/local/lib/python3.10/site-packages (0.13.2)\n",
      "Collecting holidays\n",
      "  Downloading https://mirrors.cloud.aliyuncs.com/pypi/packages/c1/e4/63aa666d39dddfeaaaff1f58416d2a9c756c9b88037eae1b0d954c06d5bd/holidays-0.54-py3-none-any.whl (1.0 MB)\n",
      "\u001b[2K     \u001b[90m━━━━━━━━━━━━━━━━━━━━━━━━━━━━━━━━━━━━━━━━\u001b[0m \u001b[32m1.0/1.0 MB\u001b[0m \u001b[31m14.5 MB/s\u001b[0m eta \u001b[36m0:00:00\u001b[0m00:01\u001b[0m0:01\u001b[0m\n",
      "\u001b[?25hCollecting datetime\n",
      "  Downloading https://mirrors.cloud.aliyuncs.com/pypi/packages/f3/78/8e382b8cb4346119e2e04270b6eb4a01c5ee70b47a8a0244ecdb157204f7/DateTime-5.5-py3-none-any.whl (52 kB)\n",
      "\u001b[2K     \u001b[90m━━━━━━━━━━━━━━━━━━━━━━━━━━━━━━━━━━━━━━━━\u001b[0m \u001b[32m52.6/52.6 kB\u001b[0m \u001b[31m19.4 MB/s\u001b[0m eta \u001b[36m0:00:00\u001b[0m\n",
      "\u001b[?25hCollecting mesa\n",
      "  Downloading https://mirrors.cloud.aliyuncs.com/pypi/packages/88/95/0dbcd57efdc1dce794570de79da6d27ea8d22ea5d703c2a886ff045fc65b/mesa-2.3.2-py3-none-any.whl (65 kB)\n",
      "\u001b[2K     \u001b[90m━━━━━━━━━━━━━━━━━━━━━━━━━━━━━━━━━━━━━━━━\u001b[0m \u001b[32m65.7/65.7 kB\u001b[0m \u001b[31m22.3 MB/s\u001b[0m eta \u001b[36m0:00:00\u001b[0m\n",
      "\u001b[?25hCollecting lightgbm\n",
      "  Downloading https://mirrors.cloud.aliyuncs.com/pypi/packages/4e/19/1b928cad70a4e1a3e2c37d5417ca2182510f2451eaadb6c91cd9ec692cae/lightgbm-4.5.0-py3-none-manylinux_2_28_x86_64.whl (3.6 MB)\n",
      "\u001b[2K     \u001b[90m━━━━━━━━━━━━━━━━━━━━━━━━━━━━━━━━━━━━━━━━\u001b[0m \u001b[32m3.6/3.6 MB\u001b[0m \u001b[31m82.9 MB/s\u001b[0m eta \u001b[36m0:00:00\u001b[0m:00:01\u001b[0m\n",
      "\u001b[?25hCollecting xgboost\n",
      "  Downloading https://mirrors.cloud.aliyuncs.com/pypi/packages/20/2f/2ccc91db71096cdb8c5174948db738075d7e38cfece0815500336f6e4ca8/xgboost-2.1.1-py3-none-manylinux_2_28_x86_64.whl (153.9 MB)\n",
      "\u001b[2K     \u001b[90m━━━━━━━━━━━━━━━━━━━━━━━━━━━━━━━━━━━━━━\u001b[0m \u001b[32m153.9/153.9 MB\u001b[0m \u001b[31m14.8 MB/s\u001b[0m eta \u001b[36m0:00:00\u001b[0m00:01\u001b[0m00:01\u001b[0m\n",
      "\u001b[?25hRequirement already satisfied: tzdata>=2022.7 in /usr/local/lib/python3.10/site-packages (from pandas) (2024.1)\n",
      "Requirement already satisfied: pytz>=2020.1 in /usr/local/lib/python3.10/site-packages (from pandas) (2024.1)\n",
      "Requirement already satisfied: python-dateutil>=2.8.2 in /usr/local/lib/python3.10/site-packages (from pandas) (2.9.0.post0)\n",
      "Requirement already satisfied: joblib>=1.2.0 in /usr/local/lib/python3.10/site-packages (from scikit-learn) (1.4.2)\n",
      "Requirement already satisfied: scipy>=1.6.0 in /usr/local/lib/python3.10/site-packages (from scikit-learn) (1.12.0)\n",
      "Requirement already satisfied: threadpoolctl>=3.1.0 in /usr/local/lib/python3.10/site-packages (from scikit-learn) (3.5.0)\n",
      "Requirement already satisfied: fonttools>=4.22.0 in /usr/local/lib/python3.10/site-packages (from matplotlib) (4.53.0)\n",
      "Requirement already satisfied: pillow>=8 in /usr/local/lib/python3.10/site-packages (from matplotlib) (10.3.0)\n",
      "Requirement already satisfied: cycler>=0.10 in /usr/local/lib/python3.10/site-packages (from matplotlib) (0.12.1)\n",
      "Requirement already satisfied: kiwisolver>=1.3.1 in /usr/local/lib/python3.10/site-packages (from matplotlib) (1.4.5)\n",
      "Requirement already satisfied: pyparsing>=2.3.1 in /usr/local/lib/python3.10/site-packages (from matplotlib) (3.1.2)\n",
      "Requirement already satisfied: contourpy>=1.0.1 in /usr/local/lib/python3.10/site-packages (from matplotlib) (1.2.1)\n",
      "Requirement already satisfied: packaging>=20.0 in /usr/local/lib/python3.10/site-packages (from matplotlib) (24.0)\n",
      "Collecting zope.interface\n",
      "  Downloading https://mirrors.cloud.aliyuncs.com/pypi/packages/ef/c2/8c38d60a99ff20c4837866362283e5e7e7b63fd2ab62eee35d0055dab7c3/zope.interface-7.0.1-cp310-cp310-manylinux_2_5_x86_64.manylinux1_x86_64.manylinux_2_17_x86_64.manylinux2014_x86_64.whl (254 kB)\n",
      "\u001b[2K     \u001b[90m━━━━━━━━━━━━━━━━━━━━━━━━━━━━━━━━━━━━━━\u001b[0m \u001b[32m254.1/254.1 kB\u001b[0m \u001b[31m24.0 MB/s\u001b[0m eta \u001b[36m0:00:00\u001b[0m\n",
      "\u001b[?25hRequirement already satisfied: click in /usr/local/lib/python3.10/site-packages (from mesa) (8.1.7)\n",
      "Collecting cookiecutter\n",
      "  Downloading https://mirrors.cloud.aliyuncs.com/pypi/packages/b6/d9/0137658a353168ffa9d0fc14b812d3834772040858ddd1cb6eeaf09f7a44/cookiecutter-2.6.0-py3-none-any.whl (39 kB)\n",
      "Requirement already satisfied: networkx in /usr/local/lib/python3.10/site-packages (from mesa) (3.3)\n",
      "Collecting mesa-viz-tornado>=0.1.3,~=0.1.0\n",
      "  Downloading https://mirrors.cloud.aliyuncs.com/pypi/packages/cc/8e/6bbf2831dd60c53a8dc985ddb59ce397fd9cc1329036f53fbe9811eceee3/Mesa_Viz_Tornado-0.1.3-py3-none-any.whl (1.6 MB)\n",
      "\u001b[2K     \u001b[90m━━━━━━━━━━━━━━━━━━━━━━━━━━━━━━━━━━━━━━━━\u001b[0m \u001b[32m1.6/1.6 MB\u001b[0m \u001b[31m48.8 MB/s\u001b[0m eta \u001b[36m0:00:00\u001b[0m\n",
      "\u001b[?25hRequirement already satisfied: tqdm in /usr/local/lib/python3.10/site-packages (from mesa) (4.66.4)\n",
      "Collecting solara\n",
      "  Downloading https://mirrors.cloud.aliyuncs.com/pypi/packages/fa/5e/0670f02eea0f79839a3101c539c0a2f92adadcb183e183525e71c41875a7/solara-1.37.1-py2.py3-none-any.whl (5.7 kB)\n",
      "Requirement already satisfied: nvidia-nccl-cu12 in /usr/local/lib/python3.10/site-packages (from xgboost) (2.20.5)\n",
      "Requirement already satisfied: tornado in /usr/local/lib/python3.10/site-packages (from mesa-viz-tornado>=0.1.3,~=0.1.0->mesa) (6.4.1)\n",
      "Requirement already satisfied: six>=1.5 in /usr/local/lib/python3.10/site-packages (from python-dateutil>=2.8.2->pandas) (1.16.0)\n",
      "Collecting python-slugify>=4.0.0\n",
      "  Downloading https://mirrors.cloud.aliyuncs.com/pypi/packages/a4/62/02da182e544a51a5c3ccf4b03ab79df279f9c60c5e82d5e8bec7ca26ac11/python_slugify-8.0.4-py2.py3-none-any.whl (10 kB)\n",
      "Requirement already satisfied: pyyaml>=5.3.1 in /usr/local/lib/python3.10/site-packages (from cookiecutter->mesa) (6.0.1)\n",
      "Requirement already satisfied: Jinja2<4.0.0,>=2.7 in /usr/local/lib/python3.10/site-packages (from cookiecutter->mesa) (3.1.4)\n",
      "Requirement already satisfied: arrow in /usr/local/lib/python3.10/site-packages (from cookiecutter->mesa) (1.3.0)\n",
      "Requirement already satisfied: rich in /usr/local/lib/python3.10/site-packages (from cookiecutter->mesa) (13.7.1)\n",
      "Requirement already satisfied: requests>=2.23.0 in /usr/local/lib/python3.10/site-packages (from cookiecutter->mesa) (2.32.3)\n",
      "Collecting binaryornot>=0.4.4\n",
      "  Downloading https://mirrors.cloud.aliyuncs.com/pypi/packages/24/7e/f7b6f453e6481d1e233540262ccbfcf89adcd43606f44a028d7f5fae5eb2/binaryornot-0.4.4-py2.py3-none-any.whl (9.0 kB)\n",
      "Collecting solara-server[dev,starlette]==1.37.1\n",
      "  Downloading https://mirrors.cloud.aliyuncs.com/pypi/packages/f4/77/cd38a92c88345a4c45985b7084f538a31f4f314db0d0844c87aaf7b6f076/solara_server-1.37.1-py2.py3-none-any.whl (3.9 kB)\n",
      "Collecting solara-ui[all]==1.37.1\n",
      "  Downloading https://mirrors.cloud.aliyuncs.com/pypi/packages/96/f2/cf50da44402db75099c5622ca1f2cda8861411f5291bd201da867f2ae825/solara_ui-1.37.1-py2.py3-none-any.whl (1.3 MB)\n",
      "\u001b[2K     \u001b[90m━━━━━━━━━━━━━━━━━━━━━━━━━━━━━━━━━━━━━━━━\u001b[0m \u001b[32m1.3/1.3 MB\u001b[0m \u001b[31m70.0 MB/s\u001b[0m eta \u001b[36m0:00:00\u001b[0m\n",
      "\u001b[?25hRequirement already satisfied: jupyter-client>=7.0.0 in /usr/local/lib/python3.10/site-packages (from solara-server[dev,starlette]==1.37.1->solara->mesa) (8.6.2)\n",
      "Requirement already satisfied: filelock in /usr/local/lib/python3.10/site-packages (from solara-server[dev,starlette]==1.37.1->solara->mesa) (3.14.0)\n",
      "Requirement already satisfied: nbformat in /usr/local/lib/python3.10/site-packages (from solara-server[dev,starlette]==1.37.1->solara->mesa) (5.10.4)\n",
      "Requirement already satisfied: ipykernel in /usr/local/lib/python3.10/site-packages (from solara-server[dev,starlette]==1.37.1->solara->mesa) (6.29.5)\n",
      "Collecting rich-click\n",
      "  Downloading https://mirrors.cloud.aliyuncs.com/pypi/packages/c6/ea/5a0c5a8e6532e971983d1b0fc99268eb66a10f489da35d9022ce01044191/rich_click-1.8.3-py3-none-any.whl (35 kB)\n",
      "Collecting watchdog\n",
      "  Downloading https://mirrors.cloud.aliyuncs.com/pypi/packages/24/01/a4034a94a5f1828eb050230e7cf13af3ac23cf763512b6afe008d3def97c/watchdog-4.0.1-py3-none-manylinux2014_x86_64.whl (83 kB)\n",
      "\u001b[2K     \u001b[90m━━━━━━━━━━━━━━━━━━━━━━━━━━━━━━━━━━━━━━━━\u001b[0m \u001b[32m83.0/83.0 kB\u001b[0m \u001b[31m33.2 MB/s\u001b[0m eta \u001b[36m0:00:00\u001b[0m\n",
      "\u001b[?25hRequirement already satisfied: watchfiles in /usr/local/lib/python3.10/site-packages (from solara-server[dev,starlette]==1.37.1->solara->mesa) (0.22.0)\n",
      "Requirement already satisfied: uvicorn in /usr/local/lib/python3.10/site-packages (from solara-server[dev,starlette]==1.37.1->solara->mesa) (0.30.3)\n",
      "Requirement already satisfied: websockets in /usr/local/lib/python3.10/site-packages (from solara-server[dev,starlette]==1.37.1->solara->mesa) (12.0)\n",
      "Requirement already satisfied: starlette in /usr/local/lib/python3.10/site-packages (from solara-server[dev,starlette]==1.37.1->solara->mesa) (0.37.2)\n",
      "Collecting humanize\n",
      "  Downloading https://mirrors.cloud.aliyuncs.com/pypi/packages/8f/49/a29c79bea335e52fb512a43faf84998c184c87fef82c65f568f8c56f2642/humanize-4.10.0-py3-none-any.whl (126 kB)\n",
      "\u001b[2K     \u001b[90m━━━━━━━━━━━━━━━━━━━━━━━━━━━━━━━━━━━━━━\u001b[0m \u001b[32m127.0/127.0 kB\u001b[0m \u001b[31m47.4 MB/s\u001b[0m eta \u001b[36m0:00:00\u001b[0m\n",
      "\u001b[?25hRequirement already satisfied: ipywidgets>=7.7 in /usr/local/lib/python3.10/site-packages (from solara-ui[all]==1.37.1->solara->mesa) (8.1.3)\n",
      "Collecting reacton>=1.7.1\n",
      "  Downloading https://mirrors.cloud.aliyuncs.com/pypi/packages/5a/a3/82c66231febe282e7a172075f3d36d63994bdcb42423c288409148d5553b/reacton-1.8.3-py2.py3-none-any.whl (107 kB)\n",
      "\u001b[2K     \u001b[90m━━━━━━━━━━━━━━━━━━━━━━━━━━━━━━━━━━━━━━\u001b[0m \u001b[32m107.9/107.9 kB\u001b[0m \u001b[31m38.5 MB/s\u001b[0m eta \u001b[36m0:00:00\u001b[0m\n",
      "\u001b[?25hCollecting ipyvue>=1.9.0\n",
      "  Downloading https://mirrors.cloud.aliyuncs.com/pypi/packages/86/94/bba0473f2cc8959058565dba28d95d1c55721bb843534a7e9b2987e7d02a/ipyvue-1.11.1-py2.py3-none-any.whl (2.7 MB)\n",
      "\u001b[2K     \u001b[90m━━━━━━━━━━━━━━━━━━━━━━━━━━━━━━━━━━━━━━━━\u001b[0m \u001b[32m2.7/2.7 MB\u001b[0m \u001b[31m103.8 MB/s\u001b[0m eta \u001b[36m0:00:00\u001b[0m\n",
      "\u001b[?25hCollecting ipyvuetify>=1.6.10\n",
      "  Downloading https://mirrors.cloud.aliyuncs.com/pypi/packages/e4/1e/c2e7b4ae5cb88be0f898579c2ce35cd4efae28783a805b0016bc0115a49a/ipyvuetify-1.10.0-py2.py3-none-any.whl (6.1 MB)\n",
      "\u001b[2K     \u001b[90m━━━━━━━━━━━━━━━━━━━━━━━━━━━━━━━━━━━━━━━━\u001b[0m \u001b[32m6.1/6.1 MB\u001b[0m \u001b[31m122.8 MB/s\u001b[0m eta \u001b[36m0:00:00\u001b[0m00:01\u001b[0m\n",
      "\u001b[?25hRequirement already satisfied: setuptools in /usr/local/lib/python3.10/site-packages (from zope.interface->datetime) (71.1.0)\n",
      "Collecting chardet>=3.0.2\n",
      "  Downloading https://mirrors.cloud.aliyuncs.com/pypi/packages/38/6f/f5fbc992a329ee4e0f288c1fe0e2ad9485ed064cac731ed2fe47dcc38cbf/chardet-5.2.0-py3-none-any.whl (199 kB)\n",
      "\u001b[2K     \u001b[90m━━━━━━━━━━━━━━━━━━━━━━━━━━━━━━━━━━━━━━\u001b[0m \u001b[32m199.4/199.4 kB\u001b[0m \u001b[31m61.7 MB/s\u001b[0m eta \u001b[36m0:00:00\u001b[0m\n",
      "\u001b[?25hRequirement already satisfied: MarkupSafe>=2.0 in /usr/local/lib/python3.10/site-packages (from Jinja2<4.0.0,>=2.7->cookiecutter->mesa) (2.1.5)\n",
      "Requirement already satisfied: text-unidecode>=1.3 in /usr/local/lib/python3.10/site-packages (from python-slugify>=4.0.0->cookiecutter->mesa) (1.3)\n",
      "Requirement already satisfied: urllib3<3,>=1.21.1 in /usr/local/lib/python3.10/site-packages (from requests>=2.23.0->cookiecutter->mesa) (2.2.1)\n",
      "Requirement already satisfied: idna<4,>=2.5 in /usr/local/lib/python3.10/site-packages (from requests>=2.23.0->cookiecutter->mesa) (3.7)\n",
      "Requirement already satisfied: charset-normalizer<4,>=2 in /usr/local/lib/python3.10/site-packages (from requests>=2.23.0->cookiecutter->mesa) (3.3.2)\n",
      "Requirement already satisfied: certifi>=2017.4.17 in /usr/local/lib/python3.10/site-packages (from requests>=2.23.0->cookiecutter->mesa) (2024.2.2)\n",
      "Requirement already satisfied: types-python-dateutil>=2.8.10 in /usr/local/lib/python3.10/site-packages (from arrow->cookiecutter->mesa) (2.9.0.20240316)\n",
      "Requirement already satisfied: pygments<3.0.0,>=2.13.0 in /usr/local/lib/python3.10/site-packages (from rich->cookiecutter->mesa) (2.18.0)\n",
      "Requirement already satisfied: markdown-it-py>=2.2.0 in /usr/local/lib/python3.10/site-packages (from rich->cookiecutter->mesa) (3.0.0)\n",
      "Requirement already satisfied: traitlets>=4.3.1 in /usr/local/lib/python3.10/site-packages (from ipywidgets>=7.7->solara-ui[all]==1.37.1->solara->mesa) (5.14.3)\n",
      "Requirement already satisfied: ipython>=6.1.0 in /usr/local/lib/python3.10/site-packages (from ipywidgets>=7.7->solara-ui[all]==1.37.1->solara->mesa) (8.26.0)\n",
      "Requirement already satisfied: widgetsnbextension~=4.0.11 in /usr/local/lib/python3.10/site-packages (from ipywidgets>=7.7->solara-ui[all]==1.37.1->solara->mesa) (4.0.11)\n",
      "Requirement already satisfied: jupyterlab-widgets~=3.0.11 in /usr/local/lib/python3.10/site-packages (from ipywidgets>=7.7->solara-ui[all]==1.37.1->solara->mesa) (3.0.11)\n",
      "Requirement already satisfied: comm>=0.1.3 in /usr/local/lib/python3.10/site-packages (from ipywidgets>=7.7->solara-ui[all]==1.37.1->solara->mesa) (0.2.2)\n",
      "Requirement already satisfied: pyzmq>=23.0 in /usr/local/lib/python3.10/site-packages (from jupyter-client>=7.0.0->solara-server[dev,starlette]==1.37.1->solara->mesa) (26.0.3)\n",
      "Requirement already satisfied: jupyter-core!=5.0.*,>=4.12 in /usr/local/lib/python3.10/site-packages (from jupyter-client>=7.0.0->solara-server[dev,starlette]==1.37.1->solara->mesa) (5.7.2)\n",
      "Requirement already satisfied: mdurl~=0.1 in /usr/local/lib/python3.10/site-packages (from markdown-it-py>=2.2.0->rich->cookiecutter->mesa) (0.1.2)\n",
      "Requirement already satisfied: typing-extensions>=4.1.1 in /usr/local/lib/python3.10/site-packages (from reacton>=1.7.1->solara-ui[all]==1.37.1->solara->mesa) (4.12.0)\n",
      "Requirement already satisfied: psutil in /usr/local/lib/python3.10/site-packages (from ipykernel->solara-server[dev,starlette]==1.37.1->solara->mesa) (5.9.8)\n",
      "Requirement already satisfied: debugpy>=1.6.5 in /usr/local/lib/python3.10/site-packages (from ipykernel->solara-server[dev,starlette]==1.37.1->solara->mesa) (1.8.2)\n",
      "Requirement already satisfied: matplotlib-inline>=0.1 in /usr/local/lib/python3.10/site-packages (from ipykernel->solara-server[dev,starlette]==1.37.1->solara->mesa) (0.1.7)\n",
      "Requirement already satisfied: nest-asyncio in /usr/local/lib/python3.10/site-packages (from ipykernel->solara-server[dev,starlette]==1.37.1->solara->mesa) (1.6.0)\n",
      "Requirement already satisfied: fastjsonschema>=2.15 in /usr/local/lib/python3.10/site-packages (from nbformat->solara-server[dev,starlette]==1.37.1->solara->mesa) (2.20.0)\n",
      "Requirement already satisfied: jsonschema>=2.6 in /usr/local/lib/python3.10/site-packages (from nbformat->solara-server[dev,starlette]==1.37.1->solara->mesa) (4.23.0)\n",
      "Requirement already satisfied: cachetools in /usr/local/lib/python3.10/site-packages (from solara-ui[all]==1.37.1->solara->mesa) (5.4.0)\n",
      "Requirement already satisfied: markdown in /usr/local/lib/python3.10/site-packages (from solara-ui[all]==1.37.1->solara->mesa) (3.6)\n",
      "Collecting pymdown-extensions\n",
      "  Downloading https://mirrors.cloud.aliyuncs.com/pypi/packages/7b/41/18b5dc5e97ec3ff1c2f51d372e570a9fbe231f1124dcc36dbc6b47f93058/pymdown_extensions-10.9-py3-none-any.whl (250 kB)\n",
      "\u001b[2K     \u001b[90m━━━━━━━━━━━━━━━━━━━━━━━━━━━━━━━━━━━━━━\u001b[0m \u001b[32m251.0/251.0 kB\u001b[0m \u001b[31m44.2 MB/s\u001b[0m eta \u001b[36m0:00:00\u001b[0m\n",
      "\u001b[?25hRequirement already satisfied: anyio<5,>=3.4.0 in /usr/local/lib/python3.10/site-packages (from starlette->solara-server[dev,starlette]==1.37.1->solara->mesa) (4.4.0)\n",
      "Requirement already satisfied: h11>=0.8 in /usr/local/lib/python3.10/site-packages (from uvicorn->solara-server[dev,starlette]==1.37.1->solara->mesa) (0.14.0)\n",
      "Requirement already satisfied: exceptiongroup>=1.0.2 in /usr/local/lib/python3.10/site-packages (from anyio<5,>=3.4.0->starlette->solara-server[dev,starlette]==1.37.1->solara->mesa) (1.2.1)\n",
      "Requirement already satisfied: sniffio>=1.1 in /usr/local/lib/python3.10/site-packages (from anyio<5,>=3.4.0->starlette->solara-server[dev,starlette]==1.37.1->solara->mesa) (1.3.1)\n",
      "Requirement already satisfied: decorator in /usr/local/lib/python3.10/site-packages (from ipython>=6.1.0->ipywidgets>=7.7->solara-ui[all]==1.37.1->solara->mesa) (4.4.2)\n",
      "Requirement already satisfied: jedi>=0.16 in /usr/local/lib/python3.10/site-packages (from ipython>=6.1.0->ipywidgets>=7.7->solara-ui[all]==1.37.1->solara->mesa) (0.19.1)\n",
      "Requirement already satisfied: pexpect>4.3 in /usr/local/lib/python3.10/site-packages (from ipython>=6.1.0->ipywidgets>=7.7->solara-ui[all]==1.37.1->solara->mesa) (4.9.0)\n",
      "Requirement already satisfied: stack-data in /usr/local/lib/python3.10/site-packages (from ipython>=6.1.0->ipywidgets>=7.7->solara-ui[all]==1.37.1->solara->mesa) (0.6.3)\n",
      "Requirement already satisfied: prompt-toolkit<3.1.0,>=3.0.41 in /usr/local/lib/python3.10/site-packages (from ipython>=6.1.0->ipywidgets>=7.7->solara-ui[all]==1.37.1->solara->mesa) (3.0.47)\n",
      "Requirement already satisfied: attrs>=22.2.0 in /usr/local/lib/python3.10/site-packages (from jsonschema>=2.6->nbformat->solara-server[dev,starlette]==1.37.1->solara->mesa) (23.2.0)\n",
      "Requirement already satisfied: jsonschema-specifications>=2023.03.6 in /usr/local/lib/python3.10/site-packages (from jsonschema>=2.6->nbformat->solara-server[dev,starlette]==1.37.1->solara->mesa) (2023.12.1)\n",
      "Requirement already satisfied: rpds-py>=0.7.1 in /usr/local/lib/python3.10/site-packages (from jsonschema>=2.6->nbformat->solara-server[dev,starlette]==1.37.1->solara->mesa) (0.19.1)\n",
      "Requirement already satisfied: referencing>=0.28.4 in /usr/local/lib/python3.10/site-packages (from jsonschema>=2.6->nbformat->solara-server[dev,starlette]==1.37.1->solara->mesa) (0.35.1)\n",
      "Requirement already satisfied: platformdirs>=2.5 in /usr/local/lib/python3.10/site-packages (from jupyter-core!=5.0.*,>=4.12->jupyter-client>=7.0.0->solara-server[dev,starlette]==1.37.1->solara->mesa) (4.2.2)\n",
      "Requirement already satisfied: parso<0.9.0,>=0.8.3 in /usr/local/lib/python3.10/site-packages (from jedi>=0.16->ipython>=6.1.0->ipywidgets>=7.7->solara-ui[all]==1.37.1->solara->mesa) (0.8.4)\n",
      "Requirement already satisfied: ptyprocess>=0.5 in /usr/local/lib/python3.10/site-packages (from pexpect>4.3->ipython>=6.1.0->ipywidgets>=7.7->solara-ui[all]==1.37.1->solara->mesa) (0.7.0)\n",
      "Requirement already satisfied: wcwidth in /usr/local/lib/python3.10/site-packages (from prompt-toolkit<3.1.0,>=3.0.41->ipython>=6.1.0->ipywidgets>=7.7->solara-ui[all]==1.37.1->solara->mesa) (0.2.13)\n",
      "Requirement already satisfied: executing>=1.2.0 in /usr/local/lib/python3.10/site-packages (from stack-data->ipython>=6.1.0->ipywidgets>=7.7->solara-ui[all]==1.37.1->solara->mesa) (2.0.1)\n",
      "Requirement already satisfied: pure-eval in /usr/local/lib/python3.10/site-packages (from stack-data->ipython>=6.1.0->ipywidgets>=7.7->solara-ui[all]==1.37.1->solara->mesa) (0.2.2)\n",
      "Requirement already satisfied: asttokens>=2.1.0 in /usr/local/lib/python3.10/site-packages (from stack-data->ipython>=6.1.0->ipywidgets>=7.7->solara-ui[all]==1.37.1->solara->mesa) (2.4.1)\n",
      "Installing collected packages: zope.interface, watchdog, python-slugify, pymdown-extensions, mesa-viz-tornado, humanize, chardet, xgboost, lightgbm, holidays, datetime, binaryornot, rich-click, cookiecutter, reacton, ipyvue, ipyvuetify, solara-ui, solara-server, solara, mesa\n",
      "Successfully installed binaryornot-0.4.4 chardet-5.2.0 cookiecutter-2.6.0 datetime-5.5 holidays-0.54 humanize-4.10.0 ipyvue-1.11.1 ipyvuetify-1.10.0 lightgbm-4.5.0 mesa-2.3.2 mesa-viz-tornado-0.1.3 pymdown-extensions-10.9 python-slugify-8.0.4 reacton-1.8.3 rich-click-1.8.3 solara-1.37.1 solara-server-1.37.1 solara-ui-1.37.1 watchdog-4.0.1 xgboost-2.1.1 zope.interface-7.0.1\n",
      "\u001b[33mWARNING: Running pip as the 'root' user can result in broken permissions and conflicting behaviour with the system package manager. It is recommended to use a virtual environment instead: https://pip.pypa.io/warnings/venv\u001b[0m\u001b[33m\n",
      "\u001b[0m\n",
      "\u001b[1m[\u001b[0m\u001b[34;49mnotice\u001b[0m\u001b[1;39;49m]\u001b[0m\u001b[39;49m A new release of pip is available: \u001b[0m\u001b[31;49m23.0.1\u001b[0m\u001b[39;49m -> \u001b[0m\u001b[32;49m24.2\u001b[0m\n",
      "\u001b[1m[\u001b[0m\u001b[34;49mnotice\u001b[0m\u001b[1;39;49m]\u001b[0m\u001b[39;49m To update, run: \u001b[0m\u001b[32;49mpip install --upgrade pip\u001b[0m\n"
     ]
    }
   ],
   "source": [
    "!pip install numpy pandas scikit-learn matplotlib seaborn holidays datetime mesa lightgbm xgboost"
   ]
  },
  {
   "cell_type": "markdown",
   "metadata": {},
   "source": [
    "# 导入相关包"
   ]
  },
  {
   "cell_type": "code",
   "execution_count": 2,
   "metadata": {
    "ExecutionIndicator": {
     "show": true
    },
    "execution": {
     "iopub.execute_input": "2024-08-11T01:55:10.019182Z",
     "iopub.status.busy": "2024-08-11T01:55:10.018915Z",
     "iopub.status.idle": "2024-08-11T01:55:11.773041Z",
     "shell.execute_reply": "2024-08-11T01:55:11.772511Z",
     "shell.execute_reply.started": "2024-08-11T01:55:10.019163Z"
    },
    "tags": []
   },
   "outputs": [],
   "source": [
    "import numpy as np\n",
    "import pandas as pd\n",
    "from sklearn.linear_model import LinearRegression\n",
    "from sklearn.ensemble import RandomForestRegressor\n",
    "from sklearn.impute import SimpleImputer\n",
    "from sklearn.model_selection import train_test_split, GridSearchCV\n",
    "from sklearn.metrics import mean_squared_error\n",
    "from sklearn.pipeline import Pipeline\n",
    "from sklearn.preprocessing import StandardScaler\n",
    "from mesa import Agent, Model\n",
    "from mesa.time import RandomActivation\n",
    "from mesa.datacollection import DataCollector\n",
    "from pathlib import Path\n",
    "import seaborn as sns\n",
    "import os\n",
    "from datetime import timedelta\n",
    "from tqdm import tqdm\n",
    "import seaborn as sns\n",
    "import matplotlib.pylab as plt\n",
    "from pathlib import Path\n",
    "import warnings\n",
    "from sklearn.linear_model import LinearRegression\n",
    "from lightgbm import LGBMRegressor\n",
    "from sklearn.metrics import mean_squared_error, mean_absolute_error\n",
    "from sklearn.model_selection import StratifiedKFold, KFold, GroupKFold\n",
    "from xgboost import XGBRegressor\n",
    "\n",
    "warnings.filterwarnings('ignore')\n",
    "plt.style.use('ggplot')\n",
    "plt.rcParams['font.sans-serif'] = [\"WenQuanYi Micro Hei\",'SimHei']\n",
    "plt.rcParams['axes.unicode_minus'] = False"
   ]
  },
  {
   "cell_type": "markdown",
   "metadata": {},
   "source": [
    "# 读取数据"
   ]
  },
  {
   "cell_type": "code",
   "execution_count": 3,
   "metadata": {
    "execution": {
     "iopub.execute_input": "2024-08-11T01:55:11.774140Z",
     "iopub.status.busy": "2024-08-11T01:55:11.773775Z",
     "iopub.status.idle": "2024-08-11T01:55:11.838078Z",
     "shell.execute_reply": "2024-08-11T01:55:11.837551Z",
     "shell.execute_reply.started": "2024-08-11T01:55:11.774123Z"
    },
    "tags": []
   },
   "outputs": [],
   "source": [
    "\n",
    "base_path = Path(\"data\")  # 确保数据都放在同级的data目录下\n",
    "\n",
    "# 读取市场数据\n",
    "electricity_price = pd.read_csv(base_path / \"electricity price.csv\")\n",
    "# 读取市场主体（各发电机组）数据\n",
    "unit = pd.read_csv(base_path / \"unit.csv\")\n",
    "\n",
    "\"\"\"\n",
    "准备示例提交数据sample_submit\n",
    "1. electricity_price[\"clearing price (CNY/MWh)\"].isna()找到出清价格为缺失值的行，即要预测的目标\n",
    "2. 去除demand列，符合最后的提交格式 \n",
    "\"\"\"\n",
    "\n",
    "sample_submit = electricity_price[electricity_price[\"clearing price (CNY/MWh)\"].isna()].drop(columns=\"demand\")\n",
    "sample_submit.to_csv(base_path / \"sample_submit.csv\", index=False)"
   ]
  },
  {
   "cell_type": "markdown",
   "metadata": {},
   "source": [
    "# 特征工程\n",
    "\n",
    "特征工程是数据预处理过程的一部分，涉及从原始数据中提取和创建新特征，以提高机器学习模型的性能。它包括清理数据、处理缺失值、转换变量类型、标准化或归一化数据，以及创建新的衍生特征。特征工程的目标是通过选择和构建合适的特征，使模型能够更好地理解数据和预测目标变量。"
   ]
  },
  {
   "cell_type": "code",
   "execution_count": 4,
   "metadata": {
    "ExecutionIndicator": {
     "show": true
    },
    "execution": {
     "iopub.execute_input": "2024-08-11T01:55:11.839063Z",
     "iopub.status.busy": "2024-08-11T01:55:11.838812Z",
     "iopub.status.idle": "2024-08-11T01:55:11.919663Z",
     "shell.execute_reply": "2024-08-11T01:55:11.919103Z",
     "shell.execute_reply.started": "2024-08-11T01:55:11.839046Z"
    },
    "tags": []
   },
   "outputs": [],
   "source": [
    "# 将day和time列合并成timestamp列，便于提取时间戳特征\n",
    "electricity_price[\"timestamp\"] = pd.to_datetime(\n",
    "    electricity_price[\"day\"] + \" \" + electricity_price[\"time\"].str.replace(\"24:00:00\", \"00:00\"))\n",
    "\n",
    "# 处理24:00:00的情况，即表示第二天的00:00:00\n",
    "mask = electricity_price['timestamp'].dt.time == pd.Timestamp('00:00:00').time()\n",
    "\n",
    "# 需要将这些行的日期部分加一天\n",
    "electricity_price.loc[mask, 'timestamp'] += pd.Timedelta(days=1)\n",
    "\n",
    "# 设置列的顺序，同时去除day和time列\n",
    "electricity_price = electricity_price[[\"timestamp\", \"demand\", \"clearing price (CNY/MWh)\",\"time\"]]"
   ]
  },
  {
   "cell_type": "code",
   "execution_count": 5,
   "metadata": {
    "execution": {
     "iopub.execute_input": "2024-08-11T01:55:11.920676Z",
     "iopub.status.busy": "2024-08-11T01:55:11.920430Z",
     "iopub.status.idle": "2024-08-11T01:55:11.925355Z",
     "shell.execute_reply": "2024-08-11T01:55:11.924891Z",
     "shell.execute_reply.started": "2024-08-11T01:55:11.920660Z"
    },
    "tags": []
   },
   "outputs": [],
   "source": [
    "# 处理缺失值\n",
    "imputer = SimpleImputer(strategy='mean')\n",
    "electricity_price[\"demand\"] = imputer.fit_transform(electricity_price[\"demand\"].values.reshape(-1, 1))"
   ]
  },
  {
   "cell_type": "code",
   "execution_count": 6,
   "metadata": {
    "ExecutionIndicator": {
     "show": true
    },
    "execution": {
     "iopub.execute_input": "2024-08-11T01:55:11.926262Z",
     "iopub.status.busy": "2024-08-11T01:55:11.925955Z",
     "iopub.status.idle": "2024-08-11T01:55:11.945238Z",
     "shell.execute_reply": "2024-08-11T01:55:11.944779Z",
     "shell.execute_reply.started": "2024-08-11T01:55:11.926247Z"
    },
    "tags": []
   },
   "outputs": [],
   "source": [
    "# 提取时间特征\n",
    "electricity_price[\"hour\"] = electricity_price[\"timestamp\"].dt.hour\n",
    "electricity_price[\"day\"] = electricity_price[\"timestamp\"].dt.day\n",
    "electricity_price[\"month\"] = electricity_price[\"timestamp\"].dt.month\n",
    "electricity_price[\"year\"] = electricity_price[\"timestamp\"].dt.year\n",
    "electricity_price[\"weekday\"] = electricity_price[\"timestamp\"].dt.weekday\n",
    "electricity_price[\"quarter\"] = electricity_price[\"timestamp\"].dt.quarter\n",
    "electricity_price[\"is_windy_season\"] = electricity_price[\"timestamp\"].dt.month.isin([1, 2, 3, 4, 5, 9, 10, 11, 12])\n",
    "electricity_price[\"is_valley\"] = electricity_price[\"timestamp\"].dt.hour.isin([10, 11, 12, 13, 14, 15])"
   ]
  },
  {
   "cell_type": "markdown",
   "metadata": {},
   "source": [
    "## 节假日特征"
   ]
  },
  {
   "cell_type": "code",
   "execution_count": 7,
   "metadata": {
    "execution": {
     "iopub.execute_input": "2024-08-11T01:55:11.947015Z",
     "iopub.status.busy": "2024-08-11T01:55:11.946759Z",
     "iopub.status.idle": "2024-08-11T01:55:11.954762Z",
     "shell.execute_reply": "2024-08-11T01:55:11.954306Z",
     "shell.execute_reply.started": "2024-08-11T01:55:11.946996Z"
    },
    "tags": []
   },
   "outputs": [],
   "source": [
    "# 节假日处理\n",
    "def generate_holiday_dates(start_dates, duration):\n",
    "    holidays = []\n",
    "    for start_date in start_dates:\n",
    "        holidays.extend(pd.date_range(start=start_date, periods=duration).tolist())\n",
    "    return holidays\n",
    "\n",
    "spring_festival_start_dates = [\"2022-01-31\", \"2023-01-21\", \"2024-02-10\"]\n",
    "labor_start_dates = [\"2022-04-30\", \"2023-04-29\"]\n",
    "\n",
    "spring_festivals = generate_holiday_dates(spring_festival_start_dates, 7)\n",
    "labor = generate_holiday_dates(labor_start_dates, 5)\n",
    "\n",
    "electricity_price[\"is_spring_festival\"] = electricity_price[\"timestamp\"].isin(spring_festivals)\n",
    "electricity_price[\"is_labor\"] = electricity_price[\"timestamp\"].isin(labor)\n"
   ]
  },
  {
   "cell_type": "code",
   "execution_count": 8,
   "metadata": {
    "execution": {
     "iopub.execute_input": "2024-08-11T01:55:11.955504Z",
     "iopub.status.busy": "2024-08-11T01:55:11.955309Z",
     "iopub.status.idle": "2024-08-11T01:55:11.967915Z",
     "shell.execute_reply": "2024-08-11T01:55:11.967517Z",
     "shell.execute_reply.started": "2024-08-11T01:55:11.955490Z"
    },
    "tags": []
   },
   "outputs": [
    {
     "data": {
      "text/html": [
       "<div>\n",
       "<style scoped>\n",
       "    .dataframe tbody tr th:only-of-type {\n",
       "        vertical-align: middle;\n",
       "    }\n",
       "\n",
       "    .dataframe tbody tr th {\n",
       "        vertical-align: top;\n",
       "    }\n",
       "\n",
       "    .dataframe thead th {\n",
       "        text-align: right;\n",
       "    }\n",
       "</style>\n",
       "<table border=\"1\" class=\"dataframe\">\n",
       "  <thead>\n",
       "    <tr style=\"text-align: right;\">\n",
       "      <th></th>\n",
       "      <th>timestamp</th>\n",
       "      <th>demand</th>\n",
       "      <th>clearing price (CNY/MWh)</th>\n",
       "      <th>time</th>\n",
       "      <th>hour</th>\n",
       "      <th>day</th>\n",
       "      <th>month</th>\n",
       "      <th>year</th>\n",
       "      <th>weekday</th>\n",
       "      <th>quarter</th>\n",
       "      <th>is_windy_season</th>\n",
       "      <th>is_valley</th>\n",
       "      <th>is_spring_festival</th>\n",
       "      <th>is_labor</th>\n",
       "    </tr>\n",
       "  </thead>\n",
       "  <tbody>\n",
       "    <tr>\n",
       "      <th>0</th>\n",
       "      <td>2021-12-01 00:15:00</td>\n",
       "      <td>40334.18</td>\n",
       "      <td>350.80</td>\n",
       "      <td>0:15</td>\n",
       "      <td>0</td>\n",
       "      <td>1</td>\n",
       "      <td>12</td>\n",
       "      <td>2021</td>\n",
       "      <td>2</td>\n",
       "      <td>4</td>\n",
       "      <td>True</td>\n",
       "      <td>False</td>\n",
       "      <td>False</td>\n",
       "      <td>False</td>\n",
       "    </tr>\n",
       "    <tr>\n",
       "      <th>1</th>\n",
       "      <td>2021-12-01 00:30:00</td>\n",
       "      <td>40523.15</td>\n",
       "      <td>350.80</td>\n",
       "      <td>0:30</td>\n",
       "      <td>0</td>\n",
       "      <td>1</td>\n",
       "      <td>12</td>\n",
       "      <td>2021</td>\n",
       "      <td>2</td>\n",
       "      <td>4</td>\n",
       "      <td>True</td>\n",
       "      <td>False</td>\n",
       "      <td>False</td>\n",
       "      <td>False</td>\n",
       "    </tr>\n",
       "    <tr>\n",
       "      <th>2</th>\n",
       "      <td>2021-12-01 00:45:00</td>\n",
       "      <td>40374.74</td>\n",
       "      <td>350.80</td>\n",
       "      <td>0:45</td>\n",
       "      <td>0</td>\n",
       "      <td>1</td>\n",
       "      <td>12</td>\n",
       "      <td>2021</td>\n",
       "      <td>2</td>\n",
       "      <td>4</td>\n",
       "      <td>True</td>\n",
       "      <td>False</td>\n",
       "      <td>False</td>\n",
       "      <td>False</td>\n",
       "    </tr>\n",
       "    <tr>\n",
       "      <th>3</th>\n",
       "      <td>2021-12-01 01:00:00</td>\n",
       "      <td>40111.55</td>\n",
       "      <td>350.80</td>\n",
       "      <td>1:00</td>\n",
       "      <td>1</td>\n",
       "      <td>1</td>\n",
       "      <td>12</td>\n",
       "      <td>2021</td>\n",
       "      <td>2</td>\n",
       "      <td>4</td>\n",
       "      <td>True</td>\n",
       "      <td>False</td>\n",
       "      <td>False</td>\n",
       "      <td>False</td>\n",
       "    </tr>\n",
       "    <tr>\n",
       "      <th>4</th>\n",
       "      <td>2021-12-01 01:15:00</td>\n",
       "      <td>40067.50</td>\n",
       "      <td>348.93</td>\n",
       "      <td>1:15</td>\n",
       "      <td>1</td>\n",
       "      <td>1</td>\n",
       "      <td>12</td>\n",
       "      <td>2021</td>\n",
       "      <td>2</td>\n",
       "      <td>4</td>\n",
       "      <td>True</td>\n",
       "      <td>False</td>\n",
       "      <td>False</td>\n",
       "      <td>False</td>\n",
       "    </tr>\n",
       "  </tbody>\n",
       "</table>\n",
       "</div>"
      ],
      "text/plain": [
       "            timestamp    demand  clearing price (CNY/MWh)  time  hour  day  \\\n",
       "0 2021-12-01 00:15:00  40334.18                    350.80  0:15     0    1   \n",
       "1 2021-12-01 00:30:00  40523.15                    350.80  0:30     0    1   \n",
       "2 2021-12-01 00:45:00  40374.74                    350.80  0:45     0    1   \n",
       "3 2021-12-01 01:00:00  40111.55                    350.80  1:00     1    1   \n",
       "4 2021-12-01 01:15:00  40067.50                    348.93  1:15     1    1   \n",
       "\n",
       "   month  year  weekday  quarter  is_windy_season  is_valley  \\\n",
       "0     12  2021        2        4             True      False   \n",
       "1     12  2021        2        4             True      False   \n",
       "2     12  2021        2        4             True      False   \n",
       "3     12  2021        2        4             True      False   \n",
       "4     12  2021        2        4             True      False   \n",
       "\n",
       "   is_spring_festival  is_labor  \n",
       "0               False     False  \n",
       "1               False     False  \n",
       "2               False     False  \n",
       "3               False     False  \n",
       "4               False     False  "
      ]
     },
     "execution_count": 8,
     "metadata": {},
     "output_type": "execute_result"
    }
   ],
   "source": [
    "electricity_price.head()  # 显示前5行数据"
   ]
  },
  {
   "cell_type": "code",
   "execution_count": 9,
   "metadata": {
    "execution": {
     "iopub.execute_input": "2024-08-11T01:55:11.968832Z",
     "iopub.status.busy": "2024-08-11T01:55:11.968542Z",
     "iopub.status.idle": "2024-08-11T01:55:11.974791Z",
     "shell.execute_reply": "2024-08-11T01:55:11.974363Z",
     "shell.execute_reply.started": "2024-08-11T01:55:11.968814Z"
    },
    "tags": []
   },
   "outputs": [
    {
     "data": {
      "text/html": [
       "<div>\n",
       "<style scoped>\n",
       "    .dataframe tbody tr th:only-of-type {\n",
       "        vertical-align: middle;\n",
       "    }\n",
       "\n",
       "    .dataframe tbody tr th {\n",
       "        vertical-align: top;\n",
       "    }\n",
       "\n",
       "    .dataframe thead th {\n",
       "        text-align: right;\n",
       "    }\n",
       "</style>\n",
       "<table border=\"1\" class=\"dataframe\">\n",
       "  <thead>\n",
       "    <tr style=\"text-align: right;\">\n",
       "      <th></th>\n",
       "      <th>unit ID</th>\n",
       "      <th>Capacity（MW）</th>\n",
       "      <th>utilization hour (h)</th>\n",
       "      <th>coal consumption (g coal/KWh)</th>\n",
       "      <th>power consumption rate (%)</th>\n",
       "    </tr>\n",
       "  </thead>\n",
       "  <tbody>\n",
       "    <tr>\n",
       "      <th>0</th>\n",
       "      <td>1</td>\n",
       "      <td>110.0</td>\n",
       "      <td>2069.12</td>\n",
       "      <td>266.07</td>\n",
       "      <td>6.91</td>\n",
       "    </tr>\n",
       "    <tr>\n",
       "      <th>1</th>\n",
       "      <td>2</td>\n",
       "      <td>160.0</td>\n",
       "      <td>5509.22</td>\n",
       "      <td>292.70</td>\n",
       "      <td>6.91</td>\n",
       "    </tr>\n",
       "    <tr>\n",
       "      <th>2</th>\n",
       "      <td>3</td>\n",
       "      <td>160.0</td>\n",
       "      <td>3562.79</td>\n",
       "      <td>293.35</td>\n",
       "      <td>6.91</td>\n",
       "    </tr>\n",
       "    <tr>\n",
       "      <th>3</th>\n",
       "      <td>4</td>\n",
       "      <td>160.0</td>\n",
       "      <td>5684.12</td>\n",
       "      <td>284.88</td>\n",
       "      <td>6.91</td>\n",
       "    </tr>\n",
       "    <tr>\n",
       "      <th>4</th>\n",
       "      <td>5</td>\n",
       "      <td>220.0</td>\n",
       "      <td>2231.35</td>\n",
       "      <td>323.08</td>\n",
       "      <td>8.54</td>\n",
       "    </tr>\n",
       "  </tbody>\n",
       "</table>\n",
       "</div>"
      ],
      "text/plain": [
       "   unit ID  Capacity（MW）  utilization hour (h)  coal consumption (g coal/KWh)  \\\n",
       "0        1         110.0               2069.12                         266.07   \n",
       "1        2         160.0               5509.22                         292.70   \n",
       "2        3         160.0               3562.79                         293.35   \n",
       "3        4         160.0               5684.12                         284.88   \n",
       "4        5         220.0               2231.35                         323.08   \n",
       "\n",
       "   power consumption rate (%)  \n",
       "0                        6.91  \n",
       "1                        6.91  \n",
       "2                        6.91  \n",
       "3                        6.91  \n",
       "4                        8.54  "
      ]
     },
     "execution_count": 9,
     "metadata": {},
     "output_type": "execute_result"
    }
   ],
   "source": [
    "unit.head()"
   ]
  },
  {
   "cell_type": "code",
   "execution_count": 10,
   "metadata": {
    "ExecutionIndicator": {
     "show": true
    },
    "execution": {
     "iopub.execute_input": "2024-08-11T01:55:11.975711Z",
     "iopub.status.busy": "2024-08-11T01:55:11.975427Z",
     "iopub.status.idle": "2024-08-11T01:55:12.063268Z",
     "shell.execute_reply": "2024-08-11T01:55:12.062698Z",
     "shell.execute_reply.started": "2024-08-11T01:55:11.975693Z"
    },
    "tags": []
   },
   "outputs": [],
   "source": [
    "# 独热编码\n",
    "electricity_price = pd.get_dummies(\n",
    "    data=electricity_price,\n",
    "    columns=[\"hour\", \"day\", \"month\", \"year\", \"weekday\", \"quarter\"],\n",
    "    drop_first=True\n",
    ")"
   ]
  },
  {
   "cell_type": "markdown",
   "metadata": {},
   "source": [
    "## 电力损耗惩罚因子"
   ]
  },
  {
   "cell_type": "code",
   "execution_count": 11,
   "metadata": {
    "ExecutionIndicator": {
     "show": true
    },
    "execution": {
     "iopub.execute_input": "2024-08-11T01:55:12.064271Z",
     "iopub.status.busy": "2024-08-11T01:55:12.064020Z",
     "iopub.status.idle": "2024-08-11T01:55:12.068054Z",
     "shell.execute_reply": "2024-08-11T01:55:12.067599Z",
     "shell.execute_reply.started": "2024-08-11T01:55:12.064251Z"
    },
    "tags": []
   },
   "outputs": [],
   "source": [
    "# 预处理unit数据\n",
    "unit['coal consumption (g coal/KWh)'] = unit['coal consumption (g coal/KWh)'] / (1 - unit['power consumption rate (%)'] / 100)\n",
    "unit['Capacity（MW）'] = unit['Capacity（MW）']*(1 - unit['power consumption rate (%)'] / 100)"
   ]
  },
  {
   "cell_type": "code",
   "execution_count": 12,
   "metadata": {
    "ExecutionIndicator": {
     "show": true
    },
    "execution": {
     "iopub.execute_input": "2024-08-11T01:55:12.069065Z",
     "iopub.status.busy": "2024-08-11T01:55:12.068775Z",
     "iopub.status.idle": "2024-08-11T01:55:12.072058Z",
     "shell.execute_reply": "2024-08-11T01:55:12.071564Z",
     "shell.execute_reply.started": "2024-08-11T01:55:12.069049Z"
    },
    "tags": []
   },
   "outputs": [],
   "source": [
    "# 引入光伏数据（假设数据）\n",
    "pv_unit = pd.DataFrame({\n",
    "    \"Capacity（MW）\": np.random.uniform(50, 150, size=10),\n",
    "    \"coal consumption (g coal/KWh)\": np.zeros(10),  # 光伏不消耗煤\n",
    "    \"is_solar\": [True] * 10  # 标记为光伏发电机组\n",
    "})"
   ]
  },
  {
   "cell_type": "code",
   "execution_count": 13,
   "metadata": {
    "execution": {
     "iopub.execute_input": "2024-08-11T01:55:12.072894Z",
     "iopub.status.busy": "2024-08-11T01:55:12.072669Z",
     "iopub.status.idle": "2024-08-11T01:55:12.076545Z",
     "shell.execute_reply": "2024-08-11T01:55:12.076052Z",
     "shell.execute_reply.started": "2024-08-11T01:55:12.072880Z"
    },
    "tags": []
   },
   "outputs": [],
   "source": [
    "# 将光伏数据添加到unit数据中\n",
    "unit[\"is_solar\"] = False\n",
    "unit = pd.concat([unit, pv_unit], ignore_index=True)"
   ]
  },
  {
   "cell_type": "code",
   "execution_count": 14,
   "metadata": {
    "execution": {
     "iopub.execute_input": "2024-08-11T01:55:12.077280Z",
     "iopub.status.busy": "2024-08-11T01:55:12.077130Z",
     "iopub.status.idle": "2024-08-11T01:55:12.081314Z",
     "shell.execute_reply": "2024-08-11T01:55:12.080840Z",
     "shell.execute_reply.started": "2024-08-11T01:55:12.077267Z"
    },
    "tags": []
   },
   "outputs": [],
   "source": [
    "electricity_price[\"hour\"] = electricity_price[\"timestamp\"].dt.hour"
   ]
  },
  {
   "cell_type": "markdown",
   "metadata": {},
   "source": [
    "# 使用ABM估计市场出清价格"
   ]
  },
  {
   "cell_type": "code",
   "execution_count": 15,
   "metadata": {
    "ExecutionIndicator": {
     "show": true
    },
    "execution": {
     "iopub.execute_input": "2024-08-11T01:55:12.085468Z",
     "iopub.status.busy": "2024-08-11T01:55:12.084692Z",
     "iopub.status.idle": "2024-08-11T01:55:12.096007Z",
     "shell.execute_reply": "2024-08-11T01:55:12.095412Z",
     "shell.execute_reply.started": "2024-08-11T01:55:12.085429Z"
    },
    "tags": []
   },
   "outputs": [],
   "source": [
    "# 定义发电机组代理\n",
    "class GeneratorAgent(Agent):\n",
    "    def __init__(self, unique_id, model, capacity, coal_consumption, is_solar=False):\n",
    "        super().__init__(unique_id, model)\n",
    "        self.capacity = capacity\n",
    "        self.coal_consumption = coal_consumption\n",
    "        self.is_solar = is_solar\n",
    "        self.price = self.coal_consumption\n",
    "        self.successful_bid = False\n",
    "\n",
    "    def adjust_price(self, market_clearing_price, demand, hour):\n",
    "        if self.is_solar:\n",
    "            # 假设光伏发电在10-15点之间最活跃\n",
    "            if hour >= 10 and hour <= 15:\n",
    "                self.price = 0  # 光伏发电在活跃时段出价为0\n",
    "            else:\n",
    "                self.price = np.inf  # 非活跃时段不参与竞价\n",
    "        else:\n",
    "            # 其他机组根据市场清算价格调整出价\n",
    "            if not self.successful_bid:\n",
    "                self.price += (market_clearing_price - self.price) * 0.1\n",
    "\n",
    "    def step(self):\n",
    "        pass"
   ]
  },
  {
   "cell_type": "code",
   "execution_count": 16,
   "metadata": {
    "ExecutionIndicator": {
     "show": true
    },
    "execution": {
     "iopub.execute_input": "2024-08-11T01:55:12.097134Z",
     "iopub.status.busy": "2024-08-11T01:55:12.096860Z",
     "iopub.status.idle": "2024-08-11T01:55:12.102496Z",
     "shell.execute_reply": "2024-08-11T01:55:12.102009Z",
     "shell.execute_reply.started": "2024-08-11T01:55:12.097117Z"
    },
    "tags": []
   },
   "outputs": [],
   "source": [
    "# 定义电力市场模型\n",
    "class ElectricityMarketModel(Model):\n",
    "    def __init__(self, agents_data, electricity_price):\n",
    "        self.schedule = RandomActivation(self)\n",
    "        self.electricity_price = electricity_price\n",
    "        \n",
    "        for index, row in agents_data.iterrows():\n",
    "            agent = GeneratorAgent(index, self, row['Capacity（MW）'], row['coal consumption (g coal/KWh)'], row['is_solar'])\n",
    "            self.schedule.add(agent)\n",
    "\n",
    "        self.datacollector = DataCollector(\n",
    "            agent_reporters={\"Capacity\": \"capacity\", \"Coal Consumption\": \"coal_consumption\"}\n",
    "        )\n",
    "\n",
    "    def market_clear(self, demand, hour):\n",
    "        bids = [(agent.price, agent) for agent in self.schedule.agents]\n",
    "        bids.sort(key=lambda x: x[0])\n",
    "        total_capacity = 0\n",
    "        clearing_price = 0\n",
    "\n",
    "        for price, agent in bids:\n",
    "            total_capacity += agent.capacity\n",
    "            if total_capacity >= demand:\n",
    "                clearing_price = price\n",
    "                agent.successful_bid = True\n",
    "                break\n",
    "            agent.successful_bid = False\n",
    "        \n",
    "        return clearing_price\n",
    "\n",
    "    def step(self, demand, hour):\n",
    "        market_clearing_price = self.market_clear(demand, hour)\n",
    "        for agent in self.schedule.agents:\n",
    "            agent.adjust_price(market_clearing_price, demand, hour)\n",
    "        self.datacollector.collect(self)\n",
    "        self.schedule.step()"
   ]
  },
  {
   "cell_type": "code",
   "execution_count": 17,
   "metadata": {
    "ExecutionIndicator": {
     "show": false
    },
    "execution": {
     "iopub.execute_input": "2024-08-11T01:55:12.103388Z",
     "iopub.status.busy": "2024-08-11T01:55:12.103205Z",
     "iopub.status.idle": "2024-08-11T01:55:12.107467Z",
     "shell.execute_reply": "2024-08-11T01:55:12.107005Z",
     "shell.execute_reply.started": "2024-08-11T01:55:12.103368Z"
    },
    "tags": []
   },
   "outputs": [],
   "source": [
    "# 初始化模型\n",
    "sorted_unit = unit.sort_values(\"coal consumption (g coal/KWh)\")\n",
    "sorted_unit['cumulative_capacity'] = sorted_unit['Capacity（MW）'].cumsum()"
   ]
  },
  {
   "cell_type": "code",
   "execution_count": 18,
   "metadata": {
    "ExecutionIndicator": {
     "show": true
    },
    "execution": {
     "iopub.execute_input": "2024-08-11T01:55:12.108388Z",
     "iopub.status.busy": "2024-08-11T01:55:12.108079Z",
     "iopub.status.idle": "2024-08-11T01:55:12.332127Z",
     "shell.execute_reply": "2024-08-11T01:55:12.331594Z",
     "shell.execute_reply.started": "2024-08-11T01:55:12.108370Z"
    },
    "tags": []
   },
   "outputs": [],
   "source": [
    "# 创建市场模型并运行\n",
    "market_model = ElectricityMarketModel(sorted_unit, electricity_price)\n",
    "\n",
    "for i in range(96):\n",
    "    hour = electricity_price.iloc[i][\"hour\"]\n",
    "    demand = electricity_price.iloc[i][\"demand\"]\n",
    "    market_model.step(demand, hour)"
   ]
  },
  {
   "cell_type": "code",
   "execution_count": 19,
   "metadata": {
    "ExecutionIndicator": {
     "show": true
    },
    "execution": {
     "iopub.execute_input": "2024-08-11T01:55:12.333114Z",
     "iopub.status.busy": "2024-08-11T01:55:12.332849Z",
     "iopub.status.idle": "2024-08-11T01:56:27.480507Z",
     "shell.execute_reply": "2024-08-11T01:56:27.479954Z",
     "shell.execute_reply.started": "2024-08-11T01:55:12.333097Z"
    },
    "tags": []
   },
   "outputs": [],
   "source": [
    "# 提取模拟数据\n",
    "simulation_data = market_model.datacollector.get_agent_vars_dataframe()\n",
    "\n",
    "# 使用ABM模拟数据和电力需求进行价格预测\n",
    "prices = []\n",
    "# for demand in electricity_price[\"demand\"]:\n",
    "for i in range(len(electricity_price)):\n",
    "    demand = electricity_price[\"demand\"].iloc[i]\n",
    "    price = simulation_data[simulation_data['Capacity'].cumsum() >= demand][\"Coal Consumption\"].iloc[0]\n",
    "    prices.append(price)\n"
   ]
  },
  {
   "cell_type": "code",
   "execution_count": 20,
   "metadata": {
    "ExecutionIndicator": {
     "show": true
    },
    "execution": {
     "iopub.execute_input": "2024-08-11T01:56:27.481787Z",
     "iopub.status.busy": "2024-08-11T01:56:27.481300Z",
     "iopub.status.idle": "2024-08-11T01:56:27.500501Z",
     "shell.execute_reply": "2024-08-11T01:56:27.499886Z",
     "shell.execute_reply.started": "2024-08-11T01:56:27.481750Z"
    },
    "tags": []
   },
   "outputs": [],
   "source": [
    "train_length=55392\n",
    "train_data=electricity_price.copy(deep=True)"
   ]
  },
  {
   "cell_type": "markdown",
   "metadata": {},
   "source": [
    "## 构造基于demand的窗口特征"
   ]
  },
  {
   "cell_type": "code",
   "execution_count": 21,
   "metadata": {
    "execution": {
     "iopub.execute_input": "2024-08-11T01:56:27.501701Z",
     "iopub.status.busy": "2024-08-11T01:56:27.501399Z",
     "iopub.status.idle": "2024-08-11T01:56:27.507380Z",
     "shell.execute_reply": "2024-08-11T01:56:27.506853Z",
     "shell.execute_reply.started": "2024-08-11T01:56:27.501683Z"
    },
    "tags": []
   },
   "outputs": [],
   "source": [
    "def cal_range(x):\n",
    "    \"\"\"\n",
    "    计算极差（最大值和最小值之差）。\n",
    "\n",
    "    参数：\n",
    "    x (pd.Series): 输入的时间序列数据。\n",
    "\n",
    "    返回：\n",
    "    float: 极差值。\n",
    "\n",
    "    示例：\n",
    "    >>> import pandas as pd\n",
    "    >>> x = pd.Series([1, 2, 3, 4, 5])\n",
    "    >>> cal_range(x)\n",
    "    4\n",
    "    \"\"\"\n",
    "    return x.max() - x.min()\n",
    "\n",
    "\n",
    "def increase_num(x):\n",
    "    \"\"\"\n",
    "    计算序列中发生增长的次数。\n",
    "\n",
    "    参数：\n",
    "    x (pd.Series): 输入的时间序列数据。\n",
    "\n",
    "    返回：\n",
    "    int: 序列中增长的次数。\n",
    "\n",
    "    示例：\n",
    "    >>> x = pd.Series([1, 2, 3, 2, 4])\n",
    "    >>> increase_num(x)\n",
    "    3\n",
    "    \"\"\"\n",
    "    return (x.diff() > 0).sum()\n",
    "\n",
    "\n",
    "def decrease_num(x):\n",
    "    \"\"\"\n",
    "    计算序列中发生下降的次数。\n",
    "\n",
    "    参数：\n",
    "    x (pd.Series): 输入的时间序列数据。\n",
    "\n",
    "    返回：\n",
    "    int: 序列中下降的次数。\n",
    "\n",
    "    示例：\n",
    "    >>> x = pd.Series([1, 2, 1, 3, 2])\n",
    "    >>> decrease_num(x)\n",
    "    2\n",
    "    \"\"\"\n",
    "    return (x.diff() < 0).sum()\n",
    "\n",
    "\n",
    "def increase_mean(x):\n",
    "    \"\"\"\n",
    "    计算序列中上升部分的均值。\n",
    "\n",
    "    参数：\n",
    "    x (pd.Series): 输入的时间序列数据。\n",
    "\n",
    "    返回：\n",
    "    float: 序列中上升部分的均值。\n",
    "\n",
    "    示例：\n",
    "    >>> x = pd.Series([1, 2, 3, 2, 4])\n",
    "    >>> diff = x.diff()\n",
    "    >>> diff\n",
    "    0    NaN\n",
    "    1    1.0\n",
    "    2    1.0\n",
    "    3   -1.0\n",
    "    4    2.0\n",
    "    dtype: float64\n",
    "    >>> increase_mean(x)\n",
    "    1.33\n",
    "    \"\"\"\n",
    "    diff = x.diff()\n",
    "    return diff[diff > 0].mean()\n",
    "\n",
    "\n",
    "def decrease_mean(x):\n",
    "    \"\"\"\n",
    "    计算序列中下降的均值（取绝对值）。\n",
    "\n",
    "    参数：\n",
    "    x (pd.Series): 输入的时间序列数据。\n",
    "\n",
    "    返回：\n",
    "    float: 序列中下降的均值（绝对值）。\n",
    "\n",
    "    示例：\n",
    "    >>> import pandas as pd\n",
    "    >>> x = pd.Series([4, 3, 5, 2, 6])\n",
    "    >>> decrease_mean(x)\n",
    "    2.0\n",
    "    \"\"\"\n",
    "    diff = x.diff()\n",
    "    return diff[diff < 0].abs().mean()\n",
    "\n",
    "\n",
    "def increase_std(x):\n",
    "    \"\"\"\n",
    "    计算序列中上升部分的标准差。\n",
    "\n",
    "    参数：\n",
    "    x (pd.Series): 输入的时间序列数据。\n",
    "\n",
    "    返回：\n",
    "    float: 序列中上升部分的标准差。\n",
    "\n",
    "    示例：\n",
    "    >>> import pandas as pd\n",
    "    >>> x = pd.Series([1, 2, 3, 2, 4])\n",
    "    >>> increase_std(x)\n",
    "    0.5773502691896257\n",
    "    \"\"\"\n",
    "    diff = x.diff()\n",
    "    return diff[diff > 0].std()\n",
    "\n",
    "\n",
    "def decrease_std(x):\n",
    "    \"\"\"\n",
    "    计算序列中下降部分的标准差。\n",
    "\n",
    "    参数：\n",
    "    x (pd.Series): 输入的时间序列数据。\n",
    "\n",
    "    返回：\n",
    "    float: 序列中下降部分的标准差。\n",
    "\n",
    "    示例：\n",
    "    >>> import pandas as pd\n",
    "    >>> x = pd.Series([4, 3, 5, 2, 6])\n",
    "    >>> decrease_std(x)\n",
    "    1.4142135623730951\n",
    "    \"\"\"\n",
    "    diff = x.diff()\n",
    "    return diff[diff < 0].std()\n"
   ]
  },
  {
   "cell_type": "code",
   "execution_count": 22,
   "metadata": {
    "execution": {
     "iopub.execute_input": "2024-08-11T01:56:27.510298Z",
     "iopub.status.busy": "2024-08-11T01:56:27.509950Z",
     "iopub.status.idle": "2024-08-11T02:01:12.747585Z",
     "shell.execute_reply": "2024-08-11T02:01:12.747051Z",
     "shell.execute_reply.started": "2024-08-11T01:56:27.510281Z"
    },
    "tags": []
   },
   "outputs": [
    {
     "name": "stderr",
     "output_type": "stream",
     "text": [
      "100%|██████████| 3/3 [04:45<00:00, 95.08s/it, window_size=24, func=decrease_std] \n"
     ]
    }
   ],
   "source": [
    "from tqdm import tqdm  # 导入 tqdm 库用于显示进度条\n",
    "\n",
    "# 定义滚动窗口大小的列表\n",
    "window_sizes = [4, 12, 24]\n",
    "\n",
    "# 遍历每个窗口大小\n",
    "with tqdm(window_sizes) as pbar:\n",
    "    for window_size in pbar:\n",
    "        # 定义要应用的聚合函数列表\n",
    "        functions = [\"mean\", \"std\", \"min\", \"max\", cal_range, increase_num,\n",
    "                     decrease_num, increase_mean, decrease_mean, increase_std, decrease_std]\n",
    "\n",
    "        # 遍历每个聚合函数\n",
    "        for func in functions:\n",
    "            # 获取函数名称，如果是字符串则直接使用，否则使用函数的 __name__ 属性\n",
    "            func_name = func if type(func) == str else func.__name__\n",
    "\n",
    "            # 生成新列名，格式为 demand_rolling_{window_size}_{func_name}\n",
    "            column_name = f\"demand_rolling_{window_size}_{func_name}\"\n",
    "\n",
    "            # 计算滚动窗口的聚合值，并将结果添加到 train_data 中\n",
    "            train_data[column_name] = train_data[\"demand\"].rolling(\n",
    "                window=window_size,        # 滚动窗口大小\n",
    "                min_periods=window_size//2,  # 最小观测值数\n",
    "                closed=\"left\"         # 滚动窗口在左侧闭合\n",
    "            ).agg(func)              # 应用聚合函数\n",
    "\n",
    "            pbar.set_postfix({\"window_size\": window_size, \"func\": func_name})\n"
   ]
  },
  {
   "cell_type": "markdown",
   "metadata": {},
   "source": [
    "# 创建训练集和测试集"
   ]
  },
  {
   "cell_type": "code",
   "execution_count": 23,
   "metadata": {
    "execution": {
     "iopub.execute_input": "2024-08-11T02:01:12.748590Z",
     "iopub.status.busy": "2024-08-11T02:01:12.748293Z",
     "iopub.status.idle": "2024-08-11T02:01:12.754783Z",
     "shell.execute_reply": "2024-08-11T02:01:12.754284Z",
     "shell.execute_reply.started": "2024-08-11T02:01:12.748571Z"
    },
    "tags": []
   },
   "outputs": [],
   "source": [
    "# 添加新的特征列：demand_shift_1，表示将 demand 列中的值向后移动一位\n",
    "# shift(1) 的结果是当前行的值等于前一行的值，第一行的值为 NaN\n",
    "train_data[\"demand_shift_1\"] = train_data[\"demand\"].shift(1)\n",
    "\n",
    "# 添加新的特征列：demand_diff_1，表示 demand 列中相邻值的差\n",
    "# diff(1) 的结果是当前行的值减去前一行的值，第一行的值为 NaN\n",
    "train_data[\"demand_diff_1\"] = train_data[\"demand\"].diff(1)\n",
    "\n",
    "# 添加新的特征列：demand_pct_1，表示 demand 列中相邻值的百分比变化\n",
    "# pct_change(1) 的结果是当前行的值减去前一行的值再除以前一行的值，第一行的值为 NaN\n",
    "train_data[\"demand_pct_1\"] = train_data[\"demand\"].pct_change(1)\n"
   ]
  },
  {
   "cell_type": "code",
   "execution_count": 24,
   "metadata": {
    "ExecutionIndicator": {
     "show": true
    },
    "execution": {
     "iopub.execute_input": "2024-08-11T02:01:12.755797Z",
     "iopub.status.busy": "2024-08-11T02:01:12.755471Z",
     "iopub.status.idle": "2024-08-11T02:01:12.899251Z",
     "shell.execute_reply": "2024-08-11T02:01:12.898621Z",
     "shell.execute_reply.started": "2024-08-11T02:01:12.755777Z"
    },
    "tags": []
   },
   "outputs": [],
   "source": [
    "# 从 train_data 中创建训练集和测试集特征数据 (X) 和目标数据 (y)\n",
    "\n",
    "# 创建训练集特征数据 X_train\n",
    "# 1. 从 train_data 中选择前 train_length 行，去除 \"price\" 列\n",
    "# 2. 使用 bfill 方法向后填充缺失值\n",
    "# 3. 使用 ffill 方法向前填充缺失值\n",
    "X_train = train_data.iloc[:train_length].drop(columns=[\"clearing price (CNY/MWh)\"]).bfill().ffill()\n",
    "\n",
    "# 创建测试集特征数据 X_test\n",
    "X_test = train_data.iloc[train_length:].drop(columns=[\"clearing price (CNY/MWh)\"]).bfill().ffill()\n",
    "\n",
    "# 创建训练集目标数据 y_train\n",
    "y_train = train_data.iloc[:train_length][[\"clearing price (CNY/MWh)\"]]\n",
    "\n",
    "# 删除 'timestamp' 列（或其他非数值列）\n",
    "X_train = X_train.drop(columns=['timestamp'])\n",
    "X_train = X_train.drop(columns=['time'])\n",
    "X_train = X_train.drop(columns=['hour'])\n",
    "X_test = X_test.drop(columns=['timestamp'])\n",
    "X_test = X_test.drop(columns=['time'])\n",
    "X_test = X_test.drop(columns=['hour'])\n",
    "# 转换布尔类型特征为整数类型\n",
    "X_train = X_train.astype(float)\n",
    "X_test = X_test.astype(float)"
   ]
  },
  {
   "cell_type": "markdown",
   "metadata": {},
   "source": [
    "# LGBMRegressor 模型进行时序预测"
   ]
  },
  {
   "cell_type": "code",
   "execution_count": 25,
   "metadata": {
    "ExecutionIndicator": {
     "show": true
    },
    "execution": {
     "iopub.execute_input": "2024-08-11T02:01:12.900415Z",
     "iopub.status.busy": "2024-08-11T02:01:12.900114Z",
     "iopub.status.idle": "2024-08-11T02:01:13.779945Z",
     "shell.execute_reply": "2024-08-11T02:01:13.779400Z",
     "shell.execute_reply.started": "2024-08-11T02:01:12.900397Z"
    },
    "tags": []
   },
   "outputs": [],
   "source": [
    "# 创建 LGBMRegressor 模型对象，设置参数\n",
    "lgb_model = LGBMRegressor(num_leaves=2**5-1, n_estimators=300, verbose=-1)\n",
    "\n",
    "# 使用训练集数据训练 LGBMRegressor 模型\n",
    "# X_train：训练集特征数据\n",
    "# y_train：训练集目标数据\n",
    "lgb_model.fit(X_train, y_train)\n",
    "\n",
    "# 使用训练好的 LGBMRegressor 模型预测测试集特征数据\n",
    "# X_test：测试集特征数据\n",
    "# 返回预测的目标值\n",
    "lgb_pred = lgb_model.predict(X_test)\n"
   ]
  },
  {
   "cell_type": "markdown",
   "metadata": {},
   "source": [
    "# 利用线性模型转换耗煤量为机组报价"
   ]
  },
  {
   "cell_type": "code",
   "execution_count": null,
   "metadata": {},
   "outputs": [],
   "source": [
    "# 创建线性回归模型对象\n",
    "linear_model = LinearRegression()\n",
    "\n",
    "# 使用训练集数据中的 \"demand\" 特征训练线性回归模型\n",
    "# X_train[[\"demand\"]]：训练集特征数据中仅包含 \"demand\" 列\n",
    "# y_train：训练集目标数据\n",
    "linear_model.fit(X_train[[\"demand\"]], y_train)\n",
    "\n",
    "# 使用训练好的线性回归模型预测测试集特征数据中的 \"demand\" 列\n",
    "# X_test[[\"demand\"]]：测试集特征数据中仅包含 \"demand\" 列\n",
    "# 返回预测的目标值，并将结果展平为一维数组\n",
    "linear_pred = linear_model.predict(X_test[[\"demand\"]]).flatten()"
   ]
  },
  {
   "cell_type": "markdown",
   "metadata": {},
   "source": [
    "# 模型融合"
   ]
  },
  {
   "cell_type": "code",
   "execution_count": 26,
   "metadata": {
    "ExecutionIndicator": {
     "show": true
    },
    "execution": {
     "iopub.execute_input": "2024-08-11T02:01:13.780961Z",
     "iopub.status.busy": "2024-08-11T02:01:13.780702Z",
     "iopub.status.idle": "2024-08-11T02:01:13.794023Z",
     "shell.execute_reply": "2024-08-11T02:01:13.790467Z",
     "shell.execute_reply.started": "2024-08-11T02:01:13.780944Z"
    },
    "tags": []
   },
   "outputs": [],
   "source": [
    "y_pred = 0.7*linear_pred+0.3*lgb_pred"
   ]
  },
  {
   "cell_type": "markdown",
   "metadata": {},
   "source": [
    "# 模拟鸭子曲线"
   ]
  },
  {
   "cell_type": "code",
   "execution_count": null,
   "metadata": {},
   "outputs": [],
   "source": [
    "\n",
    "# 按照长度将y_pred分成三段进行修正，模拟鸭子曲线\n",
    "n = len(y_pred)\n",
    "segment1_end = n // 3\n",
    "segment2_end = 2 * n // 3\n",
    "# 对每一段应用不同的修正系数\n",
    "y_pred[:segment1_end] *= 0.95\n",
    "y_pred[segment1_end:segment2_end] *= 0.9\n",
    "y_pred[segment2_end:] *= 0.85\n",
    "\n",
    "y_pred = [f\"{x:.4f}\" for x in y_pred]"
   ]
  },
  {
   "cell_type": "markdown",
   "metadata": {},
   "source": [
    "# 将每小时数据归一化"
   ]
  },
  {
   "cell_type": "code",
   "execution_count": null,
   "metadata": {},
   "outputs": [],
   "source": [
    "sample_submit[\"clearing price (CNY/MWh)\"] = y_pred\n",
    "# 定义一个函数来替换每组4个值为它们的最小值\n",
    "def replace_with_min(group):\n",
    "    min_value = group.min()\n",
    "    return group.apply(lambda x: min_value)\n",
    "# 对'clearing price (CNY/MWh)'列每4行进行分组，并替换为最小值，把一个小时内的四段归一成最小值\n",
    "sample_submit['clearing price (CNY/MWh)'] = sample_submit['clearing price (CNY/MWh)'].groupby(sample_submit.index // 4).transform(replace_with_min)\n"
   ]
  },
  {
   "cell_type": "markdown",
   "metadata": {},
   "source": [
    "# 考虑部分节假日特征"
   ]
  },
  {
   "cell_type": "code",
   "execution_count": null,
   "metadata": {},
   "outputs": [],
   "source": [
    "## 确保 'day' 列为日期类型\n",
    "sample_submit['day'] = pd.to_datetime(sample_submit['day'])\n",
    "# 筛选出2024年2月9日之后的十天的数据\n",
    "start_date = pd.to_datetime('2024-02-08')\n",
    "end_date = start_date + timedelta(days=10)\n",
    "filtered_df = sample_submit[(sample_submit['day'] > start_date) & (sample_submit['day'] <= end_date)]\n",
    "\n",
    "# 进一步筛选出时间为10:00到16:00的数据\n",
    "filtered_df = filtered_df[filtered_df['time'].between('10:15', '16:00')]\n",
    "\n",
    "filtered_df['clearing price (CNY/MWh)'] = pd.to_numeric(filtered_df['clearing price (CNY/MWh)'], errors='coerce')\n",
    "# 对于每一天，找到最大值并进行调整\n",
    "for day in filtered_df['day'].unique():\n",
    "    day_data = filtered_df[filtered_df['day'] == day]\n",
    "    if not day_data.empty:\n",
    "        max_idx = day_data['clearing price (CNY/MWh)'].idxmax()\n",
    "        max_value = day_data.loc[max_idx, 'clearing price (CNY/MWh)'] \n",
    "        # 将其他值设为-80\n",
    "        sample_submit.loc[day_data.index, 'clearing price (CNY/MWh)'] = -80\n",
    "        # 保留最大值\n",
    "        for i in range(0,4):\n",
    "            sample_submit.loc[max_idx+i, 'clearing price (CNY/MWh)'] = max_value*0.5\n",
    "\n",
    "# # 筛选出2023年12月31日之后的两天的数据\n",
    "# start_date = pd.to_datetime('2023-12-31')\n",
    "# end_date = start_date + timedelta(days=2)\n",
    "# filtered_df = sample_submit[(sample_submit['day'] > start_date) & (sample_submit['day'] <= end_date)]\n",
    "\n",
    "# # 进一步筛选出时间为10:00到15:00的数据\n",
    "# filtered_df = filtered_df[filtered_df['time'].between('10:15', '15:00')]\n",
    "\n",
    "# filtered_df['clearing price (CNY/MWh)'] = pd.to_numeric(filtered_df['clearing price (CNY/MWh)'], errors='coerce')\n",
    "# # 对于每一天，找到最大值并进行调整\n",
    "# for day in filtered_df['day'].unique():\n",
    "#     day_data = filtered_df[filtered_df['day'] == day]\n",
    "#     if not day_data.empty:\n",
    "#         max_idx = day_data['clearing price (CNY/MWh)'].idxmax()\n",
    "#         max_value = day_data.loc[max_idx, 'clearing price (CNY/MWh)'] \n",
    "#         # 将其他值设为-80\n",
    "#         sample_submit.loc[day_data.index, 'clearing price (CNY/MWh)'] = -80\n",
    "#         # 保留最大值\n",
    "#         for i in range(0,4):\n",
    "#             sample_submit.loc[max_idx+i, 'clearing price (CNY/MWh)'] = max_value*0.5           \n",
    "\n",
    "# # 筛选出2023年4月1日之后的两天的数据\n",
    "# start_date = pd.to_datetime('2024-4-1')\n",
    "# end_date = start_date + timedelta(days=3)\n",
    "# filtered_df = sample_submit[(sample_submit['day'] > start_date) & (sample_submit['day'] <= end_date)]\n",
    "\n",
    "# # 进一步筛选出时间为10:00到15:00的数据\n",
    "# filtered_df = filtered_df[filtered_df['time'].between('10:15', '15:00')]\n",
    "\n",
    "# filtered_df['clearing price (CNY/MWh)'] = pd.to_numeric(filtered_df['clearing price (CNY/MWh)'], errors='coerce')\n",
    "# # 对于每一天，找到最大值并进行调整\n",
    "# for day in filtered_df['day'].unique():\n",
    "#     day_data = filtered_df[filtered_df['day'] == day]\n",
    "#     if not day_data.empty:\n",
    "#         max_idx = day_data['clearing price (CNY/MWh)'].idxmax()\n",
    "#         max_value = day_data.loc[max_idx, 'clearing price (CNY/MWh)'] \n",
    "#         # 将其他值设为-80\n",
    "#         sample_submit.loc[day_data.index, 'clearing price (CNY/MWh)'] = -80\n",
    "#         # 保留最大值\n",
    "#         for i in range(0,4):\n",
    "#             sample_submit.loc[max_idx+i, 'clearing price (CNY/MWh)'] = max_value\n",
    "            \n",
    "# # 筛选出2023年9月28日之后的两天的数据 端午节\n",
    "# start_date = pd.to_datetime('2023-9-28')\n",
    "# end_date = start_date + timedelta(days=2)\n",
    "# filtered_df = sample_submit[(sample_submit['day'] > start_date) & (sample_submit['day'] <= end_date)]\n",
    "\n",
    "# # 进一步筛选出时间为10:00到15:00的数据\n",
    "# filtered_df = filtered_df[filtered_df['time'].between('10:15', '15:00')]\n",
    "\n",
    "# filtered_df['clearing price (CNY/MWh)'] = pd.to_numeric(filtered_df['clearing price (CNY/MWh)'], errors='coerce')\n",
    "# # 对于每一天，找到最大值并进行调整\n",
    "# for day in filtered_df['day'].unique():\n",
    "#     day_data = filtered_df[filtered_df['day'] == day]\n",
    "#     if not day_data.empty:\n",
    "#         max_idx = day_data['clearing price (CNY/MWh)'].idxmax()\n",
    "#         max_value = day_data.loc[max_idx, 'clearing price (CNY/MWh)'] \n",
    "#         # 将其他值设为-80\n",
    "#         sample_submit.loc[day_data.index, 'clearing price (CNY/MWh)'] = -80\n",
    "#         # 保留最大值\n",
    "#         for i in range(0,4):\n",
    "#             sample_submit.loc[max_idx+i, 'clearing price (CNY/MWh)'] = -80\n"
   ]
  },
  {
   "cell_type": "markdown",
   "metadata": {},
   "source": [
    "## 保存结果为submit.csv"
   ]
  },
  {
   "cell_type": "code",
   "execution_count": 30,
   "metadata": {
    "ExecutionIndicator": {
     "show": true
    },
    "execution": {
     "iopub.execute_input": "2024-08-11T02:05:28.388356Z",
     "iopub.status.busy": "2024-08-11T02:05:28.387870Z",
     "iopub.status.idle": "2024-08-11T02:05:29.482548Z",
     "shell.execute_reply": "2024-08-11T02:05:29.481074Z",
     "shell.execute_reply.started": "2024-08-11T02:05:28.388304Z"
    },
    "tags": []
   },
   "outputs": [],
   "source": [
    "          \n",
    "sample_submit.to_csv(\"submit.csv\", index=False, encoding='utf-8')"
   ]
  }
 ],
 "metadata": {
  "kernelspec": {
   "display_name": "Python 3 (ipykernel)",
   "language": "python",
   "name": "python3"
  },
  "language_info": {
   "codemirror_mode": {
    "name": "ipython",
    "version": 3
   },
   "file_extension": ".py",
   "mimetype": "text/x-python",
   "name": "python",
   "nbconvert_exporter": "python",
   "pygments_lexer": "ipython3",
   "version": "3.10.14"
  }
 },
 "nbformat": 4,
 "nbformat_minor": 4
}
